{
 "cells": [
  {
   "cell_type": "markdown",
   "id": "66eb2982",
   "metadata": {
    "deletable": false,
    "editable": false,
    "nbgrader": {
     "cell_type": "markdown",
     "checksum": "c991663c08ac7c44412310c8d2c676d8",
     "grade": false,
     "grade_id": "cell-1bdd95c76c06a30b",
     "locked": true,
     "schema_version": 3,
     "solution": false,
     "task": false
    }
   },
   "source": [
    "# **HW4_pyhealth_preprocess**\n",
    "\n",
    "## Overview\n",
    "\n",
    "pyhealth can handle data process in a very efficient way. This pyhealth homework will introduce two very useful and flexible tools ```pyhealth.datasets``` and ```pyhealth.tasks```.\n",
    "\n",
    "pyhealth.datasets provides processing functions for all open EHR datasets, such as MIMIC-III, eICU, MIMIC-IV, and all OMOP-CDM based dataset. It can help transform the unstructured data into a unified structured object without loss of information. See document at https://pyhealth.readthedocs.io/en/latest/api/datasets.html.\n",
    "\n",
    "pyhealth.tasks provides several examples of healthcare tasks. You can follow the templates and define your own healthcare tasks. We will practice it. See document at https://pyhealth.readthedocs.io/en/latest/api/tasks.html.\n",
    "\n",
    "    \n",
    "This assignment is designed to get you familiar with ```pyhealth.datasets``` and ```pyhealth.tasks```. After finishing the homework, I am sure that you will use the modules to help implement part of the final projects. "
   ]
  },
  {
   "cell_type": "markdown",
   "id": "0c77dde8",
   "metadata": {
    "deletable": false,
    "editable": false,
    "nbgrader": {
     "cell_type": "markdown",
     "checksum": "fe5798f5540f80c7c43d299be341a8ac",
     "grade": false,
     "grade_id": "cell-d80dc749252f330e",
     "locked": true,
     "schema_version": 3,
     "solution": false,
     "task": false
    }
   },
   "source": [
    "## 1 pyhealth.datasets\n",
    "\n",
    "- **[Arguments]**: \n",
    "  - `root` is the arguments directing to the data folder, e.g., \"mimiciii/1.4/\".\n",
    "  - `tables` is a list of table names from raw databases, which specifies the information that will be used in building your dataset.\n",
    "  - `code_mapping [default: None]` asks a directionary input, specifying the new coding systems for each data table. For example, `{\"NDC\": (\"ATC\", {\"target_kwargs\": {\"level\": 3}})},` means that our pyhealth will automatically change the codings from `NDC` into `ATC-3` level for tables if any. Look up [here](https://pyhealth.readthedocs.io/en/latest/api/medcode.html#diagnosis-codes) and check which code transforms are supported.\n",
    "  - ``dev``: whether to enable dev mode (only use a small subset of the data)\n",
    "  Default is False.\n",
    "  - ``refresh_cache``: whether to refresh the cache; if true, the dataset will be processed from scratch and the cache will be updated. Default is False.      \n",
    " \n",
    "- **[Functionality]**: currently, we provide the api for:\n",
    "  - [MIMIC3Dataset](https://pyhealth.readthedocs.io/en/latest/api/datasets/pyhealth.datasets.MIMIC3Dataset.html)\n",
    "  - [MIMIC4Dataset](https://pyhealth.readthedocs.io/en/latest/api/datasets/pyhealth.datasets.MIMIC4Dataset.html)\n",
    "  - [eICUDataset](https://pyhealth.readthedocs.io/en/latest/api/datasets/pyhealth.datasets.eICUDataset.html)\n",
    "  - [OMOPDataset](https://pyhealth.readthedocs.io/en/latest/api/datasets/pyhealth.datasets.OMOPDataset.html): any OMOP-CDM based databases.\n",
    "  \n",
    "<img src=\"img/dataset.png\" width=\"800\">"
   ]
  },
  {
   "cell_type": "markdown",
   "id": "81fe741b",
   "metadata": {
    "deletable": false,
    "editable": false,
    "nbgrader": {
     "cell_type": "markdown",
     "checksum": "a21782d42681fdd06e386aaa1ca6057e",
     "grade": false,
     "grade_id": "cell-e5c977f175833e2e",
     "locked": true,
     "schema_version": 3,
     "solution": false,
     "task": false
    }
   },
   "source": [
    "## 1.1 MIMIC-III data (synthetic)\n",
    "- we want to process the MIMIC-III data by [pyhealth.datasets.MIMIC3Dataset](https://pyhealth.readthedocs.io/en/latest/api/datasets/pyhealth.datasets.MIMIC3Dataset.html). \n",
    "\n",
    "  - The root of this datasets is in (we use a synthetic MIMIC-III for demo)\n",
    "    - `https://storage.googleapis.com/pyhealth/Synthetic_MIMIC-III/`.\n",
    "  - For each patient's ICU stay, user wants to obtain the `DIAGNOSES_ICD.csv`, `PRESCRIPTIONS.csv` and `PROCEDURES_ICD.csv` tables. **Note that, different databases have different raw table names**.\n",
    "  - Further, user wants to `map the ICD9CM codes into CCSCM codes` for ease of downstream prediction applications.\n"
   ]
  },
  {
   "cell_type": "markdown",
   "id": "097032f1",
   "metadata": {
    "deletable": false,
    "editable": false,
    "nbgrader": {
     "cell_type": "markdown",
     "checksum": "8002c65cec06dd02cc5dcd527c274ddc",
     "grade": false,
     "grade_id": "cell-51cc49ab85b2dd6d",
     "locked": true,
     "schema_version": 3,
     "solution": false,
     "task": false
    }
   },
   "source": [
    "### TODO: process this synthetic MIMIC-III data"
   ]
  },
  {
   "cell_type": "code",
   "execution_count": 26,
   "id": "d6f4a4c9",
   "metadata": {
    "deletable": false
   },
   "outputs": [],
   "source": [
    "\"\"\"\n",
    "Hint:\n",
    "    MIMIC3Dataset(\n",
    "        # Argument 1: It specifies the data folder root.\n",
    "        root = 'https://storage.googleapis.com/pyhealth/Synthetic_MIMIC-III/',\n",
    "\n",
    "        # Argument 2: The users need to input a list of raw table names (e.g., DIAGNOSES_ICD.csv, PROCEDURES_ICD.csv).\n",
    "        tables = ['DIAGNOSES_ICD', 'PRESCRIPTIONS', 'PROCEDURES_ICD'],\n",
    "\n",
    "        # Argument 3: This argument input a dictionary (key is the source code \n",
    "        #     vocabulary and value is the target code vocabulary . \n",
    "        # Default is empty dict, which means the original code will be used.\n",
    "        code_mapping = {\"ICD9CM\": \"CCSCM\"},\n",
    ")\n",
    "\"\"\"\n",
    "\n",
    "from pyhealth.datasets import MIMIC3Dataset\n",
    "\n",
    "mimic3_ds = None\n",
    "# your code here\n",
    "#raise NotImplementedError\n",
    "mimic3_ds = MIMIC3Dataset(\n",
    "    root='https://storage.googleapis.com/pyhealth/Synthetic_MIMIC-III/',\n",
    "    tables=['DIAGNOSES_ICD', 'PRESCRIPTIONS', 'PROCEDURES_ICD'],\n",
    "    code_mapping={\"ICD9CM\": \"CCSCM\"}\n",
    ")"
   ]
  },
  {
   "cell_type": "markdown",
   "id": "5b59337f",
   "metadata": {
    "deletable": false,
    "editable": false,
    "nbgrader": {
     "cell_type": "markdown",
     "checksum": "651eaa25ce3b2b4af735c6be3fd8a970",
     "grade": false,
     "grade_id": "cell-3e39c27b833abced",
     "locked": true,
     "schema_version": 3,
     "solution": false,
     "task": false
    }
   },
   "source": [
    "- **[Output]:** user can check the output by calling the `.info()` function. The output `mimics_ds.patients` is a dict structure, key is the `patient_id` and the value is [Patient](https://pyhealth.readthedocs.io/en/latest/api/data/pyhealth.data.Patient.html) object. The output structure is exactly the one that we have built in **HW3_pyhealth_data**."
   ]
  },
  {
   "cell_type": "code",
   "execution_count": 27,
   "id": "a74e4e2e",
   "metadata": {
    "deletable": false,
    "editable": false,
    "nbgrader": {
     "cell_type": "code",
     "checksum": "62071ccf2a263b2afadab437d565354a",
     "grade": false,
     "grade_id": "cell-ab5ee20d82c4e0c8",
     "locked": true,
     "schema_version": 3,
     "solution": false,
     "task": false
    }
   },
   "outputs": [],
   "source": [
    "mimic3_ds.info()"
   ]
  },
  {
   "cell_type": "code",
   "execution_count": 28,
   "id": "6e6e9c9c",
   "metadata": {
    "deletable": false,
    "editable": false,
    "nbgrader": {
     "cell_type": "code",
     "checksum": "3d03ea20855312e30848adf38d158cbc",
     "grade": false,
     "grade_id": "cell-ac09057be3344df2",
     "locked": true,
     "schema_version": 3,
     "solution": false,
     "task": false
    }
   },
   "outputs": [],
   "source": [
    "# You can also print the statistics of the entire dataset.\n",
    "mimic3_ds.stat()"
   ]
  },
  {
   "cell_type": "markdown",
   "id": "8af632f0",
   "metadata": {
    "deletable": false,
    "editable": false,
    "nbgrader": {
     "cell_type": "markdown",
     "checksum": "90fc8a0da665b787847717c30657ca62",
     "grade": false,
     "grade_id": "cell-63ebd0d40cffbd7d",
     "locked": true,
     "schema_version": 3,
     "solution": false,
     "task": false
    }
   },
   "source": [
    "### TODO: calculate number of patients and visits\n",
    "\n",
    "- use ```.patients``` to obtain the patient dictionary\n",
    "- for each patient, use ```.visits``` to obtain all visits under the patient"
   ]
  },
  {
   "cell_type": "code",
   "execution_count": 53,
   "id": "073e14ff",
   "metadata": {
    "deletable": false
   },
   "outputs": [],
   "source": [
    "num_of_patients = None\n",
    "# your code here\n",
    "#raise NotImplementedError\n",
    "num_of_patients = len(mimic3_ds.patients)\n",
    "\n",
    "num_of_visits = None\n",
    "# your code here\n",
    "#raise NotImplementedError\n",
    "\n",
    "# for patient_id, patient in mimic3_ds.patients.items():\n",
    "#     print(f\"Patient ID: {patient_id}\")\n",
    "#     print(len(patient.visits))\n",
    "#     for visit in patient.visits.values():\n",
    "#         print(type(visit))\n",
    "        #num_of_visits += len(visit.events)\n",
    "\n",
    "num_of_visits = sum(len(patient.visits) for patient_id, patient in mimic3_ds.patients.items())\n"
   ]
  },
  {
   "cell_type": "code",
   "execution_count": 54,
   "id": "de5b0634",
   "metadata": {
    "deletable": false,
    "editable": false,
    "nbgrader": {
     "cell_type": "code",
     "checksum": "0522c1013380ff8949bfe2889f60453f",
     "grade": true,
     "grade_id": "cell-99881ac62ba6f265",
     "locked": true,
     "points": 30,
     "schema_version": 3,
     "solution": false,
     "task": false
    }
   },
   "outputs": [],
   "source": [
    "'''\n",
    "AUTOGRADER CELL. DO NOT MODIFY THIS.\n",
    "'''\n",
    "\n"
   ]
  },
  {
   "cell_type": "markdown",
   "id": "4f426862",
   "metadata": {
    "deletable": false,
    "editable": false,
    "nbgrader": {
     "cell_type": "markdown",
     "checksum": "1b211a9305fcebb15afbc373af51dfe1",
     "grade": false,
     "grade_id": "cell-eeaa698d01806588",
     "locked": true,
     "schema_version": 3,
     "solution": false,
     "task": false
    }
   },
   "source": [
    "## 1.2 OMOP-CDM data\n",
    "In this section, we want to use the same way to load an OMOP-CDM formatted dataset by [pyhealth.datasets.OMOPDataset](https://pyhealth.readthedocs.io/en/latest/api/datasets/pyhealth.datasets.OMOPDataset.html). The process procedure is very similar to **1.1**, but with standard OMOP-CDM table names (learn more here https://www.ohdsi.org/data-standardization/)."
   ]
  },
  {
   "cell_type": "markdown",
   "id": "b72b19a7",
   "metadata": {
    "deletable": false,
    "editable": false,
    "nbgrader": {
     "cell_type": "markdown",
     "checksum": "8f950254131383591a433166a20581a8",
     "grade": false,
     "grade_id": "cell-a574e504aa4ed124",
     "locked": true,
     "schema_version": 3,
     "solution": false,
     "task": false
    }
   },
   "source": [
    "### TODO: process the following dataset\n",
    "- data folder is https://storage.googleapis.com/pyhealth/synpuf1k_omop_cdm_5.2.2\n",
    "- the tables being processed are ```condition_occurrence.csv```, ```procedure_occurrence.csv```, ```drug_exposure.csv```\n",
    "- no code mapping is needed"
   ]
  },
  {
   "cell_type": "code",
   "execution_count": 55,
   "id": "19b55067",
   "metadata": {
    "deletable": false
   },
   "outputs": [],
   "source": [
    "from pyhealth.datasets import OMOPDataset\n",
    "\n",
    "omop_ds = None\n",
    "# your code here\n",
    "#raise NotImplementedError\n",
    "omop_ds = OMOPDataset(\n",
    "    root='https://storage.googleapis.com/pyhealth/synpuf1k_omop_cdm_5.2.2/',\n",
    "    tables=['condition_occurrence', 'procedure_occurrence', 'drug_exposure']\n",
    ")"
   ]
  },
  {
   "cell_type": "code",
   "execution_count": 56,
   "id": "f8e62494",
   "metadata": {
    "deletable": false,
    "editable": false,
    "nbgrader": {
     "cell_type": "code",
     "checksum": "9e869c7dcba2a3ce5f046f76dda0ee12",
     "grade": true,
     "grade_id": "cell-b45c23363e88dc37",
     "locked": true,
     "points": 30,
     "schema_version": 3,
     "solution": false,
     "task": false
    }
   },
   "outputs": [],
   "source": [
    "'''\n",
    "AUTOGRADER CELL. DO NOT MODIFY THIS.\n",
    "'''\n",
    "\n"
   ]
  },
  {
   "cell_type": "markdown",
   "id": "cb805dc1",
   "metadata": {
    "deletable": false,
    "editable": false,
    "nbgrader": {
     "cell_type": "markdown",
     "checksum": "e4d1b6f0c67094a220f39f179e0e9a9a",
     "grade": false,
     "grade_id": "cell-0f69112e0ab93bb0",
     "locked": true,
     "schema_version": 3,
     "solution": false,
     "task": false
    }
   },
   "source": [
    "## 2 Design a healthcare ML task on MIMIC-III\n",
    "\n",
    "Given the ```mimic3_ds```, we want to define a healthcare ML task on it to further get ready for ML models.\n",
    "- We will first use the **mortality prediction** task from ```pyhealth.tasks```.\n",
    "- Then, we will define and customize our own healthcare tasks on need.\n",
    "  \n",
    "<img src=\"img/task.png\" width=\"800\">"
   ]
  },
  {
   "cell_type": "markdown",
   "id": "7f9c48bd",
   "metadata": {
    "deletable": false,
    "editable": false,
    "nbgrader": {
     "cell_type": "markdown",
     "checksum": "4b9a3b58f82657437764836251af886e",
     "grade": false,
     "grade_id": "cell-8a6074ad448af082",
     "locked": true,
     "schema_version": 3,
     "solution": false,
     "task": false
    }
   },
   "source": [
    "## 2.1 transform MIMIC-III for mortality prediction task\n",
    "- call ```.set_task()``` and finish it in one line!"
   ]
  },
  {
   "cell_type": "code",
   "execution_count": 57,
   "id": "f5ec0447",
   "metadata": {
    "deletable": false,
    "editable": false,
    "nbgrader": {
     "cell_type": "code",
     "checksum": "bd418bf182f654fdf7c838e5588f2248",
     "grade": false,
     "grade_id": "cell-c521292bfaa7a881",
     "locked": true,
     "schema_version": 3,
     "solution": false,
     "task": false
    }
   },
   "outputs": [],
   "source": [
    "from pyhealth.tasks import mortality_prediction_mimic3_fn\n",
    "dataset = mimic3_ds.set_task(mortality_prediction_mimic3_fn)"
   ]
  },
  {
   "cell_type": "code",
   "execution_count": 58,
   "id": "3aff4620",
   "metadata": {
    "deletable": false,
    "editable": false,
    "nbgrader": {
     "cell_type": "code",
     "checksum": "326c96a8721bac3fbd8d107ae4278996",
     "grade": false,
     "grade_id": "cell-e232df821eb1fa37",
     "locked": true,
     "schema_version": 3,
     "solution": false,
     "task": false
    }
   },
   "outputs": [],
   "source": [
    "# check the stats\n",
    "dataset.stat()"
   ]
  },
  {
   "cell_type": "markdown",
   "id": "fa503fc3",
   "metadata": {
    "deletable": false,
    "editable": false,
    "nbgrader": {
     "cell_type": "markdown",
     "checksum": "2582de60c342dae4c16d3222f3e8f690",
     "grade": false,
     "grade_id": "cell-9859cef918147cb5",
     "locked": true,
     "schema_version": 3,
     "solution": false,
     "task": false
    }
   },
   "source": [
    "We can check the samples ready to be used for downstream ML models."
   ]
  },
  {
   "cell_type": "code",
   "execution_count": 59,
   "id": "15730430",
   "metadata": {
    "deletable": false,
    "editable": false,
    "nbgrader": {
     "cell_type": "code",
     "checksum": "e80417a51fb5b2c684e54bffb1213f19",
     "grade": false,
     "grade_id": "cell-7beb0678ba8bbfe2",
     "locked": true,
     "schema_version": 3,
     "solution": false,
     "task": false
    }
   },
   "outputs": [],
   "source": [
    "print (\"number of data samples in this task:\", len(dataset.samples))\n",
    "print (\"the first sample:\")\n",
    "\n",
    "\"\"\"\n",
    "- \"visit_id\", \"patient_id\" \n",
    "    - can be used to do train/val/test split\n",
    "- \"conditions\", \"procedures\", \"drugs\" \n",
    "    - can be used as feature in the downstream models;\n",
    "- \"label\" \n",
    "    - is the mortality label\n",
    "\"\"\"\n",
    "dataset.samples[0]\n"
   ]
  },
  {
   "cell_type": "markdown",
   "id": "23cece69",
   "metadata": {
    "deletable": false,
    "editable": false,
    "nbgrader": {
     "cell_type": "markdown",
     "checksum": "8ab202acd7e8816e8cc3a6c255b4a28a",
     "grade": false,
     "grade_id": "cell-b6d9f6300ff8ff02",
     "locked": true,
     "schema_version": 3,
     "solution": false,
     "task": false
    }
   },
   "source": [
    "## 2.2 define our our own mortality prediction on MIMIC-III\n",
    "\n",
    "Instead of using the example task functions, we can also define our own task below."
   ]
  },
  {
   "cell_type": "markdown",
   "id": "bece4523",
   "metadata": {
    "deletable": false,
    "editable": false,
    "nbgrader": {
     "cell_type": "markdown",
     "checksum": "c3c6389295d519286707cbdee6c3c264",
     "grade": false,
     "grade_id": "cell-bc1852a7809c91a0",
     "locked": true,
     "schema_version": 3,
     "solution": false,
     "task": false
    }
   },
   "source": [
    "### TODO: build a new mortality prediction task function\n",
    "- the input of the task function is one patient, and we are going to generate several samples from the patient following the task definition.\n",
    "\n",
    "#### requirements\n",
    "- use only `PROCEDURES_ICD` and `PRESCRIPTIONS` as two feature inputs\n",
    "- remove visit that has empty prescriptions or empty procedures"
   ]
  },
  {
   "cell_type": "code",
   "execution_count": 60,
   "id": "30f61e32",
   "metadata": {
    "deletable": false
   },
   "outputs": [],
   "source": [
    "def new_mortality_prediction_for_mimic3(patient):\n",
    "    \"\"\"\n",
    "    Mortality prediction aims at predicting whether the patient will decease in the\n",
    "        next hospital visit based on the clinical information from current visit.\n",
    "\n",
    "    \"\"\"\n",
    "    samples = []\n",
    "    \n",
    "    # enumerate each visit pair (cur_visit, next_visit)\n",
    "    for visit_idx in range(len(patient) - 1):\n",
    "        cur_visit = patient[visit_idx]\n",
    "        next_visit = patient[visit_idx + 1]\n",
    "\n",
    "        # obtain the label\n",
    "        if next_visit.discharge_status not in [0, 1]:\n",
    "            mortality_label = 0\n",
    "        else:\n",
    "            mortality_label = int(next_visit.discharge_status)\n",
    "\n",
    "        # TODO: use only PROCEDURES_ICD and PRESCRIPTIONS as two feature inputs\n",
    "        procedures = cur_visit.get_code_list(table=\"PROCEDURES_ICD\")\n",
    "        prescriptions = None\n",
    "        # your code here\n",
    "        #raise NotImplementedError\n",
    "        prescriptions = cur_visit.get_code_list(table=\"PRESCRIPTIONS\")\n",
    "\n",
    "        # assemble the sample\n",
    "        new_sample = {\n",
    "            \"visit_id\": cur_visit.visit_id,\n",
    "            \"patient_id\": patient.patient_id,\n",
    "            \"prescriptions\": prescriptions,\n",
    "            \"procedures\": procedures,\n",
    "            \"label\": mortality_label,\n",
    "        }\n",
    "\n",
    "        # TODO: remove visit that has empty prescriptions or empty procedures\n",
    "        \"\"\"\n",
    "        if empty prescriptions or empty procedures\n",
    "            samples not add new_sample\n",
    "        else:\n",
    "            samples.append(new_sample)\n",
    "        \"\"\"\n",
    "        # your code here\n",
    "        #raise NotImplementedError\n",
    "        if prescriptions and procedures:\n",
    "            samples.append(new_sample)\n",
    "    return samples"
   ]
  },
  {
   "cell_type": "code",
   "execution_count": 61,
   "id": "332b91bd",
   "metadata": {
    "deletable": false,
    "editable": false,
    "nbgrader": {
     "cell_type": "code",
     "checksum": "739d20c774f4ad6e9529547907171942",
     "grade": false,
     "grade_id": "cell-83540b05799b43e9",
     "locked": true,
     "schema_version": 3,
     "solution": false,
     "task": false
    }
   },
   "outputs": [],
   "source": [
    "# set the new task and show the statistics\n",
    "new_dataset = mimic3_ds.set_task(new_mortality_prediction_for_mimic3)\n",
    "new_dataset.stat()"
   ]
  },
  {
   "cell_type": "code",
   "execution_count": 62,
   "id": "c3f24809",
   "metadata": {
    "deletable": false,
    "editable": false,
    "nbgrader": {
     "cell_type": "code",
     "checksum": "c8bb99ea3a8df9d5c107956859a07d37",
     "grade": false,
     "grade_id": "cell-5e55242c467c7455",
     "locked": true,
     "schema_version": 3,
     "solution": false,
     "task": false
    }
   },
   "outputs": [],
   "source": [
    "# show the first sample of the new dataset\n",
    "new_dataset.samples[0]"
   ]
  },
  {
   "cell_type": "code",
   "execution_count": 63,
   "id": "0b86b3b6",
   "metadata": {
    "deletable": false,
    "editable": false,
    "nbgrader": {
     "cell_type": "code",
     "checksum": "f05b902d329741f9e9743fbdbfd816ae",
     "grade": true,
     "grade_id": "cell-a14b09301dc36c73",
     "locked": true,
     "points": 40,
     "schema_version": 3,
     "solution": false,
     "task": false
    }
   },
   "outputs": [],
   "source": [
    "'''\n",
    "AUTOGRADER CELL. DO NOT MODIFY THIS.\n",
    "'''\n",
    "\n"
   ]
  },
  {
   "cell_type": "code",
   "execution_count": null,
   "id": "1806d160",
   "metadata": {},
   "outputs": [],
   "source": []
  }
 ],
 "metadata": {
  "illinois_payload": {
   "b64z": "",
   "nb_path": "release/HW4_pyhealth_preprocess/HW4_pyhealth_preprocess.ipynb"
  },
  "kernelspec": {
   "display_name": "Python 3 (Threads: 2)",
   "language": "python",
   "name": "python3"
  },
  "language_info": {
   "codemirror_mode": {
    "name": "ipython",
    "version": 3
   },
   "file_extension": ".py",
   "mimetype": "text/x-python",
   "name": "python",
   "nbconvert_exporter": "python",
   "pygments_lexer": "ipython3",
   "version": "3.8.15"
  }
 },
 "nbformat": 4,
 "nbformat_minor": 5
}
