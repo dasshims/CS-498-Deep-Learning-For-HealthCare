{
 "cells": [
  {
   "cell_type": "markdown",
   "id": "e1d1ab37",
   "metadata": {
    "deletable": false,
    "editable": false,
    "nbgrader": {
     "cell_type": "markdown",
     "checksum": "953c1bfc7fc6164541227692e6e095a7",
     "grade": false,
     "grade_id": "cell-72ae133c18c24901",
     "locked": true,
     "schema_version": 3,
     "solution": false,
     "task": false
    }
   },
   "source": [
    "# **HW3_pyhealth_data**\n",
    "\n",
    "## Overview\n",
    "\n",
    "```pyhealth.data``` defines the basic ```Event```, ```Visit```, ```Patient``` structures used in the package. They are used to store the unstructured clinical features in a unified structured way, such that the information can be retrieved systematically.\n",
    "\n",
    "This assignment is designed to get you familiar with the basic data structures in pyhealth. In the next pyhealth homework, we will teach a very useful follow-up tool based on the structures --- ```pyhealth.datasets```. pyhealth.datasets can help you process various EHR data effortlessly and you will consider using it in your final project."
   ]
  },
  {
   "cell_type": "code",
   "execution_count": 2,
   "id": "9b17a066",
   "metadata": {
    "deletable": false,
    "editable": false,
    "nbgrader": {
     "cell_type": "code",
     "checksum": "7779b762b664da60284c204a63fef354",
     "grade": false,
     "grade_id": "cell-c0ba16636b804c61",
     "locked": true,
     "schema_version": 3,
     "solution": false,
     "task": false
    }
   },
   "outputs": [],
   "source": [
    "import numpy as np\n",
    "np.random.seed(1234)\n",
    "\n",
    "import utils\n",
    "from pyhealth.data import Event, Visit, Patient"
   ]
  },
  {
   "cell_type": "markdown",
   "id": "0b420070",
   "metadata": {
    "deletable": false,
    "editable": false,
    "nbgrader": {
     "cell_type": "markdown",
     "checksum": "4f27719156776b8d623bf8ee308798b7",
     "grade": false,
     "grade_id": "cell-dc8aa8f424465657",
     "locked": true,
     "schema_version": 3,
     "solution": false,
     "task": false
    }
   },
   "source": [
    "## **1. Play with basic pyhealth data structures**\n",
    "- In week 2 PyHealth Lab reading, we have learned how to use the Event, Visit, Patient structures in ```pyhealth.data```.\n",
    "    - refer to the tutorial at https://colab.research.google.com/drive/1y9PawgSbyMbSSMw1dpfwtooH7qzOEYdN?usp=sharing\n",
    "    - refer to the document at https://pyhealth.readthedocs.io/en/latest/api/data.html\n",
    "\n",
    "This question tests your understanding of the ```pyhealth.data``` module.\n"
   ]
  },
  {
   "cell_type": "markdown",
   "id": "c858f6d0",
   "metadata": {
    "deletable": false,
    "editable": false,
    "nbgrader": {
     "cell_type": "markdown",
     "checksum": "4b775323152285c3089e24ce97f49127",
     "grade": false,
     "grade_id": "cell-69a1c45cb5d8392e",
     "locked": true,
     "schema_version": 3,
     "solution": false,
     "task": false
    }
   },
   "source": [
    "We randomly generate the unstructured Event, Visit, Patient data for 5 patients below."
   ]
  },
  {
   "cell_type": "code",
   "execution_count": 3,
   "id": "8aeb0843",
   "metadata": {
    "deletable": false,
    "editable": false,
    "nbgrader": {
     "cell_type": "code",
     "checksum": "42d9a6e766a3e800c9a2ade93377671b",
     "grade": false,
     "grade_id": "cell-47ea4424f404ba43",
     "locked": true,
     "schema_version": 3,
     "solution": false,
     "task": false
    }
   },
   "outputs": [],
   "source": [
    "\"\"\"\n",
    "Get patients from the database\n",
    "\"\"\"\n",
    "patients = utils.get_patients() # return five patients\n",
    "\n",
    "\n",
    "\"\"\"\n",
    "For Patients: load patient information \n",
    "\"\"\"\n",
    "# patient_id\n",
    "pat_id_ls = [pat.patient_id for pat in patients]\n",
    "\n",
    "# patient birthdate\n",
    "pat_birthdate_ls = [pat.birth_datetime for pat in patients]\n",
    "\n",
    "# patient gender\n",
    "pat_gender_ls = [pat.gender for pat in patients]\n",
    "\n",
    "# patient location\n",
    "location_space = ['Chicago', 'New York', 'Los Angles', 'Las vegas', \\\n",
    "                  'San Jose', 'Champaign', 'Boston', 'St. Louis', 'Seattle', 'other']\n",
    "pat_location_ls = np.random.choice(location_space, len(patients), replace=True)\n",
    "\n",
    "\n",
    "\"\"\"\n",
    "For Visits: loaded features from the patients\n",
    "\"\"\"\n",
    "# visit_id for indexing the patient.\n",
    "# structure: {patient_id}_{visit_id}\n",
    "pat_visit_id_ls = [\n",
    "    f'{v.patient_id}_{v.visit_id}'\n",
    "    for pat in patients \n",
    "    for _, v in pat.visits.items()\n",
    "]\n",
    "\n",
    "# visit encounter_time\n",
    "visit_encounter_time_ls = [\n",
    "    v.encounter_time \n",
    "    for pat in patients \n",
    "    for _, v in pat.visits.items()\n",
    "]\n",
    "\n",
    "# visit hospital\n",
    "hospital_space = ['MGH', 'OSF', 'Carl', 'Illini Smiles', 'Champaign Dental Group']\n",
    "N_visits = len(visit_encounter_time_ls)\n",
    "visit_hospital_ls = np.random.choice(hospital_space, N_visits, replace=True)\n",
    "\n",
    "\n",
    "\"\"\"\n",
    "For Events: loaded events from the visits\n",
    "\"\"\"\n",
    "# event_id for indexing the visit and patient.\n",
    "# structure: {patient_id}_{visit_id}_{event_id}\n",
    "pat_visit_event_id_ls = [\n",
    "    f'{e.patient_id}_{e.visit_id}_{idx}'\n",
    "    for pat in patients \n",
    "    for _, v in pat.visits.items()\n",
    "    for idx, e in enumerate(v.get_event_list('DIAGNOSES_ICD'))\n",
    "]\n",
    "\n",
    "# event code\n",
    "event_code_ls = [\n",
    "    e.code\n",
    "    for pat in patients \n",
    "    for _, v in pat.visits.items()\n",
    "    for e in v.get_event_list('DIAGNOSES_ICD')\n",
    "]\n",
    "\n",
    "# event table \n",
    "N_events = len(event_code_ls)\n",
    "event_table_ls = ['Prescriptions'] * N_events\n",
    "\n",
    "# event vocabulary\n",
    "event_vocabulary_ls = ['ICD9CM'] * N_events\n",
    "\n",
    "# event time\n",
    "event_timestamp_ls = [\n",
    "    e.timestamp\n",
    "    for pat in patients \n",
    "    for _, v in pat.visits.items()\n",
    "    for e in v.get_event_list('DIAGNOSES_ICD')\n",
    "]\n",
    "\n",
    "# event prescription dosage\n",
    "event_dosage_ls = [f'{240+inc}mg' for inc in range(N_events)]\n",
    "\n",
    "patients = None"
   ]
  },
  {
   "cell_type": "markdown",
   "id": "34c49e03",
   "metadata": {
    "deletable": false,
    "editable": false,
    "nbgrader": {
     "cell_type": "markdown",
     "checksum": "1ca1430d77e2ac7d83ec98ac33b07926",
     "grade": false,
     "grade_id": "cell-a39be1e70ebc4a42",
     "locked": true,
     "schema_version": 3,
     "solution": false,
     "task": false
    }
   },
   "source": [
    "### TODO:  store the above information into a dict of Patient structure\n",
    "- {id_1: patient_1, id_2, patient_2, ..., id_5, patient_5}\n"
   ]
  },
  {
   "cell_type": "markdown",
   "id": "8b83a2b0",
   "metadata": {
    "deletable": false,
    "editable": false,
    "nbgrader": {
     "cell_type": "markdown",
     "checksum": "b2ec277366d93c9797c9afa004654241",
     "grade": false,
     "grade_id": "cell-c0b69a821424197b",
     "locked": true,
     "schema_version": 3,
     "solution": false,
     "task": false
    }
   },
   "source": [
    "## 1.1 Store patient-level information\n",
    "\n",
    "We first store the patient level information into the structure"
   ]
  },
  {
   "cell_type": "code",
   "execution_count": 5,
   "id": "8002c706",
   "metadata": {
    "deletable": false
   },
   "outputs": [],
   "source": [
    "# initialize an empty dict\n",
    "patients = {}\n",
    "\n",
    "for pat_id, birthdate, gender, location in zip(pat_id_ls, pat_birthdate_ls, \\\n",
    "                                            pat_gender_ls, pat_location_ls):\n",
    "    \"\"\"\n",
    "    We enumerate all patient information and create the corresponding patients.\n",
    "    Hint:\n",
    "        - use \n",
    "            Patient(\n",
    "                patient_id = pat_id,\n",
    "                ...\n",
    "            )\n",
    "    \"\"\"\n",
    "    patients[pat_id] = None\n",
    "    \n",
    "    # your code here\n",
    "    patient = Patient(patient_id=pat_id, birth_datetime=birthdate, gender=gender, location=location)\n",
    "    \n",
    "    # Add the patient to the patients dictionary\n",
    "    patients[pat_id] = patient"
   ]
  },
  {
   "cell_type": "code",
   "execution_count": 6,
   "id": "1d1c1e88",
   "metadata": {
    "deletable": false,
    "editable": false,
    "nbgrader": {
     "cell_type": "code",
     "checksum": "27f6279dc3e13516909d3830694b5e9e",
     "grade": true,
     "grade_id": "cell-31dcacc3b740a1a8",
     "locked": true,
     "points": 30,
     "schema_version": 3,
     "solution": false,
     "task": false
    }
   },
   "outputs": [],
   "source": [
    "'''\n",
    "AUTOGRADER CELL. DO NOT MODIFY THIS.\n",
    "'''\n",
    "\n"
   ]
  },
  {
   "cell_type": "markdown",
   "id": "3346117f",
   "metadata": {
    "deletable": false,
    "editable": false,
    "nbgrader": {
     "cell_type": "markdown",
     "checksum": "3692b3d557b39c23b356fcaca58ecd34",
     "grade": false,
     "grade_id": "cell-77dedf7a6a196d44",
     "locked": true,
     "schema_version": 3,
     "solution": false,
     "task": false
    }
   },
   "source": [
    "## 1.2 Store visit-level information\n",
    "\n",
    "we add the visit level information to each patient in ```patients```"
   ]
  },
  {
   "cell_type": "code",
   "execution_count": 7,
   "id": "27504eef",
   "metadata": {
    "deletable": false
   },
   "outputs": [],
   "source": [
    "for pat_visit_id, encounter_time, hospital in zip(pat_visit_id_ls, \\\n",
    "                                        visit_encounter_time_ls, visit_hospital_ls):\n",
    "    \"\"\"\n",
    "    We enumerate visit information and create the corresponding visits.\n",
    "    Hint\n",
    "        - use:\n",
    "            Visit(\n",
    "                visit_id = visit_id,\n",
    "                patient_id = patient_id,\n",
    "                ...\n",
    "            )\n",
    "    \"\"\"\n",
    "    # obtain the patient and visit id\n",
    "    pat_id, visit_id = pat_visit_id.split('_')\n",
    "\n",
    "    cur_visit = None  \n",
    "    # your code here\n",
    "    cur_visit = Visit(\n",
    "        visit_id=visit_id, \n",
    "        patient_id=pat_id, \n",
    "        encounter_time=encounter_time, \n",
    "        hospital=hospital)\n",
    "\n",
    "    \n",
    "    # add the current visit to the patient\n",
    "    patients[pat_id].add_visit(cur_visit)"
   ]
  },
  {
   "cell_type": "code",
   "execution_count": 8,
   "id": "0d2df938",
   "metadata": {
    "deletable": false,
    "editable": false,
    "nbgrader": {
     "cell_type": "code",
     "checksum": "873e244a40b3d6357579adf270fa2c33",
     "grade": true,
     "grade_id": "cell-47ba14aab9e4e4d2",
     "locked": true,
     "points": 35,
     "schema_version": 3,
     "solution": false,
     "task": false
    }
   },
   "outputs": [],
   "source": [
    "'''\n",
    "AUTOGRADER CELL. DO NOT MODIFY THIS.\n",
    "'''\n",
    "\n"
   ]
  },
  {
   "cell_type": "markdown",
   "id": "f97f5571",
   "metadata": {
    "deletable": false,
    "editable": false,
    "nbgrader": {
     "cell_type": "markdown",
     "checksum": "cc0d85d26882b45d8d8a222b4e158d18",
     "grade": false,
     "grade_id": "cell-88b2bd14e54e9315",
     "locked": true,
     "schema_version": 3,
     "solution": false,
     "task": false
    }
   },
   "source": [
    "## 1.3 Store event-level information\n",
    "\n",
    "we add the event level information to each patient in ```patients```\n",
    "- HINT: remember to add events following the original order in the list."
   ]
  },
  {
   "cell_type": "code",
   "execution_count": 9,
   "id": "21785ccf",
   "metadata": {
    "deletable": false
   },
   "outputs": [],
   "source": [
    "# link event to patient\n",
    "for pat_visit_event_id, code, table, vocab, timestamp, dosage in zip(pat_visit_event_id_ls, \\\n",
    "                                                    event_code_ls, event_table_ls, event_vocabulary_ls, \\\n",
    "                                                    event_timestamp_ls, event_dosage_ls):\n",
    "    \"\"\"\n",
    "    We enumerate event information and create the corresponding events.\n",
    "    Hint\n",
    "        - use:\n",
    "            Event(\n",
    "                visit_id = visit_id,\n",
    "                patient_id = patient_id,\n",
    "                ...\n",
    "            )\n",
    "        - Note that events in a visit is sorted by the event timestamp.\n",
    "            Thus, event_id is optional when creating an Event.\n",
    "    \"\"\"\n",
    "    # obtain the patient and visit id\n",
    "    pat_id, visit_id, event_id = pat_visit_event_id.split('_')\n",
    "\n",
    "    #cur_event = None  \n",
    "    \n",
    "    # your code here\n",
    "    cur_event = Event(visit_id=visit_id, patient_id=pat_id, code=code, table=table, vocabulary=vocab, timestamp=timestamp, dosage=dosage)\n",
    "\n",
    "    \n",
    "    # add the current visit to the patient\n",
    "    patients[pat_id].add_event(cur_event)"
   ]
  },
  {
   "cell_type": "code",
   "execution_count": 10,
   "id": "89ae16de",
   "metadata": {
    "deletable": false,
    "editable": false,
    "nbgrader": {
     "cell_type": "code",
     "checksum": "893e898e6ebadd814a7b252c9fd1b65c",
     "grade": true,
     "grade_id": "cell-1078f6e3b68f2237",
     "locked": true,
     "points": 35,
     "schema_version": 3,
     "solution": false,
     "task": false
    }
   },
   "outputs": [],
   "source": [
    "'''\n",
    "AUTOGRADER CELL. DO NOT MODIFY THIS.\n",
    "'''\n",
    "\n"
   ]
  },
  {
   "cell_type": "markdown",
   "id": "321a2a76",
   "metadata": {
    "deletable": false,
    "editable": false,
    "nbgrader": {
     "cell_type": "markdown",
     "checksum": "ca1585d2c9e70584297f1fdcab805c38",
     "grade": false,
     "grade_id": "cell-48dd6b183ddcdc0e",
     "locked": true,
     "schema_version": 3,
     "solution": false,
     "task": false
    }
   },
   "source": [
    "In the end, the unstructured data is stored in a way below (conceptually)\n",
    "\n",
    "\n",
    "<img src=\"img/data.png\" width=\"600\" align=\"left\">"
   ]
  },
  {
   "cell_type": "code",
   "execution_count": null,
   "id": "a2c36a5c",
   "metadata": {
    "deletable": false,
    "editable": false,
    "nbgrader": {
     "cell_type": "code",
     "checksum": "22ca3d00f70b2dc7cb56d44face4c041",
     "grade": false,
     "grade_id": "cell-b95f71262cdfb79f",
     "locked": true,
     "schema_version": 3,
     "solution": false,
     "task": false
    }
   },
   "outputs": [],
   "source": []
  },
  {
   "cell_type": "code",
   "execution_count": null,
   "id": "e493d68b",
   "metadata": {},
   "outputs": [],
   "source": []
  }
 ],
 "metadata": {
  "illinois_payload": {
   "b64z": "",
   "nb_path": "release/HW3_pyhealth_data/HW3_pyhealth_data.ipynb"
  },
  "kernelspec": {
   "display_name": "Python 3 (Threads: 2)",
   "language": "python",
   "name": "python3"
  },
  "language_info": {
   "codemirror_mode": {
    "name": "ipython",
    "version": 3
   },
   "file_extension": ".py",
   "mimetype": "text/x-python",
   "name": "python",
   "nbconvert_exporter": "python",
   "pygments_lexer": "ipython3",
   "version": "3.8.15"
  }
 },
 "nbformat": 4,
 "nbformat_minor": 5
}
