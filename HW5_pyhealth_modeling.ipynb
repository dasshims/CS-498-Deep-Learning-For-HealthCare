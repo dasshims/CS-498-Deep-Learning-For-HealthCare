{
 "cells": [
  {
   "cell_type": "markdown",
   "id": "f451a084",
   "metadata": {
    "deletable": false,
    "editable": false,
    "nbgrader": {
     "cell_type": "markdown",
     "checksum": "fad3068b4a59d8ecb10982f7bb17724a",
     "grade": false,
     "grade_id": "cell-a8bd872acb542dcd",
     "locked": true,
     "schema_version": 3,
     "solution": false,
     "task": false
    }
   },
   "source": [
    "# **HW5_pyhealth_modeling**\n",
    "\n",
    "## Overview\n",
    "\n",
    "In pyhealth, we treat each machine learning pipeline as five stages:\n",
    "> **dataset process** -> **set healthcare task** -> **build ML model** -> **training** -> **inference/test**\n",
    "\n",
    "They correspond to `pyhealth.datasets`, `pyhealth.tasks`, `pyhealth.models`, `pyhealth.trainer`, and `pyhealth.metrics`. We have alrady learned how to use the first two. Today, we will learn how to use the last three.\n",
    "\n",
    "This assignment will go over a complete five-stage ML pipeline and build a clinical drug recommendation flow. After learning, you will be able to use pyhealth to build your own machine learning pipeline. You may build the final project on top of this five-stage framework."
   ]
  },
  {
   "cell_type": "code",
   "execution_count": 12,
   "id": "48180538",
   "metadata": {
    "deletable": false,
    "editable": false,
    "nbgrader": {
     "cell_type": "code",
     "checksum": "cbc0363be59c2e124b60f14dd7fe7bc8",
     "grade": false,
     "grade_id": "cell-84ea640c32bd7a27",
     "locked": true,
     "schema_version": 3,
     "solution": false,
     "task": false
    }
   },
   "outputs": [],
   "source": [
    "import warnings\n",
    "warnings.filterwarnings('ignore')"
   ]
  },
  {
   "cell_type": "markdown",
   "id": "b558f55d",
   "metadata": {
    "deletable": false,
    "editable": false,
    "nbgrader": {
     "cell_type": "markdown",
     "checksum": "c7f274867e3b4f724790bcfea2b91004",
     "grade": false,
     "grade_id": "cell-a97f125123329970",
     "locked": true,
     "schema_version": 3,
     "solution": false,
     "task": false
    }
   },
   "source": [
    "### 1 Dataset Process\n",
    "- Recall that we have learned how to process the open EHR data in the last HW following the [document](https://pyhealth.readthedocs.io/en/latest/api/datasets.html)\n",
    "- In this assginment, we will\n",
    "    - use the synthetic MIMIC-III dataset at https://storage.googleapis.com/pyhealth/Synthetic_MIMIC-III/. \n",
    "        - You could replace the root with the real MIMIC-III dataset in your local environemnt and try it out.\n",
    "    - process the three EHR tables: `DIAGNOSES_ICD.csv`, `PROCEDURES_ICD.csv`, `PRESCRIPTIONS.csv`.\n",
    "    - apply the code mapping by transform the original NDC codes in PRESCRIPTIONS.csv to ATC-3 level code.\n",
    "- **[Next Step]:** The output object will be used in **Step 2**."
   ]
  },
  {
   "cell_type": "code",
   "execution_count": 13,
   "id": "98d72ce6",
   "metadata": {
    "deletable": false,
    "editable": false,
    "nbgrader": {
     "cell_type": "code",
     "checksum": "d4e6a8b5520176a59d3953d8779d1cf4",
     "grade": false,
     "grade_id": "cell-87e5add76eaca558",
     "locked": true,
     "schema_version": 3,
     "solution": false,
     "task": false
    }
   },
   "outputs": [],
   "source": [
    "from pyhealth.datasets import MIMIC3Dataset\n",
    "\n",
    "mimic3_ds = MIMIC3Dataset(\n",
    "        root=\"https://storage.googleapis.com/pyhealth/Synthetic_MIMIC-III/\",\n",
    "        tables=[\"DIAGNOSES_ICD\", \"PROCEDURES_ICD\", \"PRESCRIPTIONS\"],\n",
    "        code_mapping={\"NDC\": (\"ATC\", {\"target_kwargs\": {\"level\": 3}})},\n",
    ")\n",
    "\n",
    "# we show the statistics below.\n",
    "mimic3_ds.stat()"
   ]
  },
  {
   "cell_type": "markdown",
   "id": "5c208242",
   "metadata": {
    "deletable": false,
    "editable": false,
    "nbgrader": {
     "cell_type": "markdown",
     "checksum": "eb55ebb09534bdfca8b857de0f2383af",
     "grade": false,
     "grade_id": "cell-7e1634482e990cc5",
     "locked": true,
     "schema_version": 3,
     "solution": false,
     "task": false
    }
   },
   "source": [
    "### 2 Set Drug Recommendation Task\n",
    "- The last HW also taught us how to choose or define a new **healthcare task function** and use `.set_task()` to obtain samples. The **task function** specifics how to process each pateint's data into a set of samples for the downstream machine learning models. \n",
    "- Here, we use the default drug recommendation on MIMIC-III dataset from `pyhealth.tasks`. Users can also define their own function as well.\n",
    "    - [Tutorials](https://colab.research.google.com/drive/1r7MYQR_5yCJGpK_9I9-A10HmpupZuIN-?usp=sharing) on how to define your own task function.\n",
    "- **[Next Step]:** The outputs are a list of machine learning ready samples, which will be used in **Step 3**.\n",
    "\n"
   ]
  },
  {
   "cell_type": "code",
   "execution_count": 14,
   "id": "3efe9c37",
   "metadata": {
    "deletable": false,
    "editable": false,
    "nbgrader": {
     "cell_type": "code",
     "checksum": "f6acff3c4bca27d4e83b4ef64ecb61ce",
     "grade": false,
     "grade_id": "cell-fbc1df57413761ec",
     "locked": true,
     "schema_version": 3,
     "solution": false,
     "task": false
    }
   },
   "outputs": [],
   "source": [
    "from pyhealth.tasks import drug_recommendation_mimic3_fn\n",
    "\n",
    "dataset = mimic3_ds.set_task(task_fn=drug_recommendation_mimic3_fn)"
   ]
  },
  {
   "cell_type": "markdown",
   "id": "2a121f2a",
   "metadata": {
    "deletable": false,
    "editable": false,
    "nbgrader": {
     "cell_type": "markdown",
     "checksum": "db0abb5ac9c6296889164594e9f368f0",
     "grade": false,
     "grade_id": "cell-8561d9c55e1d29c6",
     "locked": true,
     "schema_version": 3,
     "solution": false,
     "task": false
    }
   },
   "source": [
    "### TODO: obtain the dataset information\n",
    "\n",
    "- Hint: use dataset.samples"
   ]
  },
  {
   "cell_type": "code",
   "execution_count": 15,
   "id": "6468da6a",
   "metadata": {
    "deletable": false
   },
   "outputs": [],
   "source": [
    "\"\"\"\n",
    "TODO: please obtain the first sample\n",
    "\"\"\"\n",
    "first_sample = None\n",
    "# your code here\n",
    "#raise NotImplementedError\n",
    "first_sample = dataset.samples[0]  # Access the first element of the 'samples' list\n",
    "\n",
    "\n",
    "\n",
    "\"\"\"\n",
    "TODO: please count the number of total samples\n",
    "\"\"\" \n",
    "num_of_samples = None\n",
    "# your code here\n",
    "#raise NotImplementedError\n",
    "num_of_samples = len(dataset.samples)  # Use the 'len' function to get the list's length\n",
    "\n",
    "\n",
    "\"\"\"\n",
    "TODO: please count the number of patients in dataset\n",
    "\"\"\"\n",
    "num_of_patients = None\n",
    "# your code here\n",
    "#raise NotImplementedError\n",
    "patient_ids = set(sample['patient_id'] for sample in dataset.samples)\n",
    "num_of_patients = len(patient_ids)\n",
    "\n",
    "\n",
    "\"\"\"\n",
    "TODO: please count the number of visits in dataset\n",
    "\"\"\"\n",
    "num_of_visits = None\n",
    "# your code here\n",
    "#raise NotImplementedError\n",
    "visit_counts = {}\n",
    "for sample in dataset.samples:\n",
    "    patient_id = sample['patient_id']\n",
    "    visit_counts[patient_id] = visit_counts.get(patient_id, 0) + 1\n",
    "num_of_visits = sum(visit_counts.values())"
   ]
  },
  {
   "cell_type": "code",
   "execution_count": 16,
   "id": "b1f07bd7",
   "metadata": {
    "deletable": false,
    "editable": false,
    "nbgrader": {
     "cell_type": "code",
     "checksum": "004ebf79341edd2bb5f12306a5d0cec4",
     "grade": true,
     "grade_id": "cell-aac0d84061669d87",
     "locked": true,
     "points": 20,
     "schema_version": 3,
     "solution": false,
     "task": false
    }
   },
   "outputs": [],
   "source": [
    "'''\n",
    "AUTOGRADER CELL. DO NOT MODIFY THIS.\n",
    "'''\n",
    "\n"
   ]
  },
  {
   "cell_type": "markdown",
   "id": "e1b88487",
   "metadata": {
    "deletable": false,
    "editable": false,
    "nbgrader": {
     "cell_type": "markdown",
     "checksum": "09925e1eb996290521be76cbf600c62e",
     "grade": false,
     "grade_id": "cell-88812a96b99ee5a4",
     "locked": true,
     "schema_version": 3,
     "solution": false,
     "task": false
    }
   },
   "source": [
    "## 2.1 dataset split into pytorch data loader\n",
    "\n",
    "The following code is used for dataset splitting into train/val/test sets.\n",
    "- Here, we use the `split_by_patient` function to make sure each patient only goes into one of the sets. [[pyhealth.datasets.splitter]](https://pyhealth.readthedocs.io/en/latest/api/datasets/pyhealth.datasets.splitter.html) also provides other data split functions. We split the dataset into 80%:10%:10% and then load them into the standard pytorch data loader format.\n",
    "\n"
   ]
  },
  {
   "cell_type": "code",
   "execution_count": 17,
   "id": "1540c0f8",
   "metadata": {
    "deletable": false,
    "editable": false,
    "nbgrader": {
     "cell_type": "code",
     "checksum": "e020ab349dc8115b725f5696c6bcd638",
     "grade": false,
     "grade_id": "cell-bd286f5472f79a15",
     "locked": true,
     "schema_version": 3,
     "solution": false,
     "task": false
    }
   },
   "outputs": [],
   "source": [
    "import numpy as np\n",
    "np.random.seed(1234)\n",
    "\n",
    "from pyhealth.datasets.splitter import split_by_patient\n",
    "from pyhealth.datasets import split_by_patient, get_dataloader\n",
    "\n",
    "# data split\n",
    "train_dataset, val_dataset, test_dataset = split_by_patient(dataset, [0.8, 0.1, 0.1])\n",
    "\n",
    "# create dataloaders (they are <torch.data.DataLoader> object)\n",
    "train_loader = get_dataloader(train_dataset, batch_size=64, shuffle=True)\n",
    "val_loader = get_dataloader(val_dataset, batch_size=64, shuffle=False)\n",
    "test_loader = get_dataloader(test_dataset, batch_size=64, shuffle=False)"
   ]
  },
  {
   "cell_type": "markdown",
   "id": "ac41079f",
   "metadata": {
    "deletable": false,
    "editable": false,
    "nbgrader": {
     "cell_type": "markdown",
     "checksum": "aa3a59525640d4402d431ad5be2d8b5a",
     "grade": false,
     "grade_id": "cell-a0391b35d418d91a",
     "locked": true,
     "schema_version": 3,
     "solution": false,
     "task": false
    }
   },
   "source": [
    "## 3. Build a ML Model\n",
    "\n",
    "[pyhealth.models](https://pyhealth.readthedocs.io/en/latest/api/models.html) provides common deep learning models (e.g., RNN, CNN, Transformer) and special healthcare deep learning models, such as (e.g., RETAIN, SafeDrug, GAMENet). All except some special models (e.g., GAMENet, SafeDrug, MICRON are designed only for drug recommendation task) can be applied to all healthcare prediction tasks. \n",
    "\n",
    "- **[Arguments for Model]**:\n",
    "  The arguments for each DL Model follows the arguments below.\n",
    "    - `dataset`: this is the [pyhealth.datasets.SampleDataset](https://pyhealth.readthedocs.io/en/latest/api/datasets.html) object (output from step 2).\n",
    "    - `feature_keys`: a list of string-based table names, indicating that these tables will be used in the pipeline.\n",
    "    - `label_key`: currently, we only support `label`, defined in task function.\n",
    "    - `mode`: `multiclass`, `multilabel`, or `binary`.\n",
    "    - other specific model arguments, such as dropout, num_layers...\n",
    "    \n",
    "- In this assignment, we are going to \n",
    "    - utilize the \"Transformer\" model\n",
    "    - choose \"conditions\", \"procedures\", and \"drugs_all\" as three features\n",
    "    - choose \"drugs\" as the predicted targets (and it is a multilabel target).\n"
   ]
  },
  {
   "cell_type": "markdown",
   "id": "4f34c9dd",
   "metadata": {
    "deletable": false,
    "editable": false,
    "nbgrader": {
     "cell_type": "markdown",
     "checksum": "4a232fd42d376ae0caa611b7eb7c4c0f",
     "grade": false,
     "grade_id": "cell-03df95ef47ab9354",
     "locked": true,
     "schema_version": 3,
     "solution": false,
     "task": false
    }
   },
   "source": [
    "### TODO: Let us first look at the form of one sample and then define a Transformer model"
   ]
  },
  {
   "cell_type": "code",
   "execution_count": 18,
   "id": "03506d87",
   "metadata": {
    "deletable": false,
    "editable": false,
    "nbgrader": {
     "cell_type": "code",
     "checksum": "82498a425ae489a85bcf940a4167db50",
     "grade": false,
     "grade_id": "cell-8bc16f6cb4986b3d",
     "locked": true,
     "schema_version": 3,
     "solution": false,
     "task": false
    }
   },
   "outputs": [],
   "source": [
    "# we print the 6-th sample\n",
    "print (dataset.samples[5])"
   ]
  },
  {
   "cell_type": "code",
   "execution_count": 19,
   "id": "8a7940ca",
   "metadata": {
    "deletable": false
   },
   "outputs": [],
   "source": [
    "\"\"\"\n",
    "TODO: \n",
    "    - initialize a Transformer model by pyhealth.models.Transformer\n",
    "    - use \"conditions\", \"procedures\", and \"drugs_all\" as the features\n",
    "    - use \"drugs\" as the predicted targets\n",
    "    - refer to https://colab.research.google.com/drive/1LcXZlu7ZUuqepf269X3FhXuhHeRvaJX5?usp=sharing\n",
    "    \n",
    "Hint:\n",
    "    Transformer(\n",
    "        dataset = ...,\n",
    "        feature_keys = ...,\n",
    "        label_key = ...,\n",
    "        mode = ...,\n",
    "    )\n",
    "\"\"\"\n",
    "\n",
    "from pyhealth.models import Transformer\n",
    "\n",
    "model = None\n",
    "# your code here\n",
    "#raise NotImplementedError\n",
    "model = Transformer(\n",
    "    dataset=dataset,\n",
    "    feature_keys=[\"conditions\", \"procedures\", \"drugs_all\"],  \n",
    "    label_key=\"drugs\",\n",
    "    mode=\"multilabel\",\n",
    ")"
   ]
  },
  {
   "cell_type": "code",
   "execution_count": 20,
   "id": "7c437cdb",
   "metadata": {
    "deletable": false,
    "editable": false,
    "nbgrader": {
     "cell_type": "code",
     "checksum": "3ab805885607c360beeabd7e76ef77b7",
     "grade": true,
     "grade_id": "cell-4f3127f2f076cb79",
     "locked": true,
     "points": 20,
     "schema_version": 3,
     "solution": false,
     "task": false
    }
   },
   "outputs": [],
   "source": [
    "'''\n",
    "AUTOGRADER CELL. DO NOT MODIFY THIS.\n",
    "'''\n",
    "\n"
   ]
  },
  {
   "cell_type": "markdown",
   "id": "9d6fb06a",
   "metadata": {
    "deletable": false,
    "editable": false,
    "nbgrader": {
     "cell_type": "markdown",
     "checksum": "7ca418950d0b75a814dfc9d4834daea2",
     "grade": false,
     "grade_id": "cell-78db002fb2cf3c6e",
     "locked": true,
     "schema_version": 3,
     "solution": false,
     "task": false
    }
   },
   "source": [
    "## 4 Model Training\n",
    "\n",
    "[pyhealth.trainer.Trainer](https://pyhealth.readthedocs.io/en/latest/api/trainer.html) is the training handler (similar to [pytorch-lightning.Trainer](https://pytorch-lightning.readthedocs.io/en/stable/common/trainer.html)). pyhealth uses it to train the ML and DL model. It has the following arguments and functionality\n",
    "\n",
    "- **[Arguments]**: \n",
    "To initialize a trainer instance, the following environments should be specified.\n",
    "  - `model`: the pyhealth.models object\n",
    "  - `checkpoint_path (optional)`: path to intermediate checkpoint\n",
    "  - `metrics (optional)`: which metrics to record during training. For example, we can record the pr_auc and auc_roc metrics. \n",
    "  - `device (optional)`: device to use\n",
    "  - `enable_logging (optional)`: enable logging\n",
    "  - `output_path (optional)`: output path\n",
    "  - `exp_name (optional)`: experiment/task name\n",
    "\n",
    "- **[Functionality]**:\n",
    "  - `Trainer.train()`: simply call the `.train()` function will start to train the DL or ML model.\n",
    "    - `train_dataloader`: train data loader\n",
    "    - `val_dataloader`: validation data loader\n",
    "    - `epochs`: number of epochs to train the model\n",
    "    - `optimizer_class (optional)`: optimizer, such as `torch.optim.Adam`\n",
    "    - `optimizer_params (optional)`: optimizer parameters, including\n",
    "      - `lr (optional)`: learning rate\n",
    "      - `weight_decay (optional)`: weight decay\n",
    "    - `max_grad_norm (optional)`: max gradient norm\n",
    "    - `monitor `: metric name to monitor, default is None\n",
    "    - `monitor_criterion (optional)`: criterion to monitor, default is \"max\"\n",
    "    - `load_best_moel_at_last (optional)`: whether to load the best model during the last iteration."
   ]
  },
  {
   "cell_type": "markdown",
   "id": "caf3d1cc",
   "metadata": {
    "deletable": false,
    "editable": false,
    "nbgrader": {
     "cell_type": "markdown",
     "checksum": "52f969f38bb2389234b92de135687ea0",
     "grade": false,
     "grade_id": "cell-72d446fb0268f692",
     "locked": true,
     "schema_version": 3,
     "solution": false,
     "task": false
    }
   },
   "source": [
    "### TODO: initialize a trainer and train the model"
   ]
  },
  {
   "cell_type": "code",
   "execution_count": 21,
   "id": "41423e1e",
   "metadata": {
    "deletable": false
   },
   "outputs": [],
   "source": [
    "\"\"\"\n",
    "TODO:\n",
    "    - use Trainer() to initialize a trainer\n",
    "        - record \"jaccard_weighted\" and \"hamming_loss\" during the training\n",
    "        - use \"cpu\" as the device,\n",
    "        - set the experiment name as \"drug_recommendation\"\n",
    "        - hint:\n",
    "        \n",
    "            Trainer(\n",
    "                model = ...,\n",
    "                metrics = ...,\n",
    "                device = ...,\n",
    "                exp_name = ...,\n",
    "            )\n",
    "            \n",
    "    - use trainer.train() to start the training\n",
    "        - set epoch number to 20\n",
    "        - monitor the \"jaccard_weighted\" metric, and use \"max\" as the criterion\n",
    "        - load the best model when finishing training\n",
    "        - hint:\n",
    "            \n",
    "            Trainer.train(\n",
    "                train_dataloader = ...,\n",
    "                val_dataloader = ...,\n",
    "                epochs = ...,\n",
    "                monitor = ...,\n",
    "                monitor_criterion = ...,\n",
    "            )\n",
    "\"\"\"\n",
    "from pyhealth.trainer import Trainer\n",
    "\n",
    "trainer = None\n",
    "\n",
    "# your code here\n",
    "#raise NotImplementedError\n",
    "\n",
    "trainer = Trainer(\n",
    "    model=model,\n",
    "    metrics=[\"jaccard_weighted\", \"hamming_loss\"],\n",
    "    device=\"cpu\",\n",
    "    exp_name=\"drug_recommendation\",\n",
    ")\n",
    "\n",
    "# Train the Model\n",
    "trainer.train(\n",
    "    train_dataloader=train_loader,\n",
    "    val_dataloader=val_loader,\n",
    "    epochs=20,\n",
    "    monitor=\"jaccard_weighted\",\n",
    "    monitor_criterion=\"max\",\n",
    "    load_best_model_at_last=True,\n",
    ")"
   ]
  },
  {
   "cell_type": "code",
   "execution_count": 22,
   "id": "92b195d3",
   "metadata": {
    "deletable": false,
    "editable": false,
    "nbgrader": {
     "cell_type": "code",
     "checksum": "4b091e6eaa56e95ddec7ca271cdfea0a",
     "grade": true,
     "grade_id": "cell-fd363a8bd7ed0981",
     "locked": true,
     "points": 20,
     "schema_version": 3,
     "solution": false,
     "task": false
    }
   },
   "outputs": [],
   "source": [
    "'''\n",
    "AUTOGRADER CELL. DO NOT MODIFY THIS.\n",
    "'''\n",
    "\n"
   ]
  },
  {
   "cell_type": "markdown",
   "id": "85d34085",
   "metadata": {
    "deletable": false,
    "editable": false,
    "nbgrader": {
     "cell_type": "markdown",
     "checksum": "69aa4b6b473bedd56eaf187a5cd9b511",
     "grade": false,
     "grade_id": "cell-ffd808dca368bf73",
     "locked": true,
     "schema_version": 3,
     "solution": false,
     "task": false
    }
   },
   "source": [
    "## 5 Model Evaluation\n",
    "\n",
    "[pyhealth.metrics](https://pyhealth.readthedocs.io/en/latest/api/metrics.html) contains the metrics for evaluating\n",
    "  - [multiclass classification](https://pyhealth.readthedocs.io/en/latest/api/metrics/pyhealth.metrics.multiclass.html)\n",
    "  - [multilabel classification](https://pyhealth.readthedocs.io/en/latest/api/metrics/pyhealth.metrics.multilabel.html)\n",
    "  - [binary classification](https://pyhealth.readthedocs.io/en/latest/api/metrics/pyhealth.metrics.binary.html)\n",
    "  \n",
    "In this assginment, we use the multiclass classfication metrics."
   ]
  },
  {
   "cell_type": "markdown",
   "id": "01b6e25b",
   "metadata": {
    "deletable": false,
    "editable": false,
    "nbgrader": {
     "cell_type": "markdown",
     "checksum": "5a4c869f7d7392b1e8094c181e491a95",
     "grade": false,
     "grade_id": "cell-dc99924776b06b75",
     "locked": true,
     "schema_version": 3,
     "solution": false,
     "task": false
    }
   },
   "source": [
    "## 5.1 one-line evaluation\n",
    "\n",
    "The trainer has the `.evaluate(test_loader)` method to obtain the result metrics for any `test_loader` (the one you obtained in **2.1**)."
   ]
  },
  {
   "cell_type": "markdown",
   "id": "2ad466fd",
   "metadata": {
    "deletable": false,
    "editable": false,
    "nbgrader": {
     "cell_type": "markdown",
     "checksum": "eb05de8b34f603f3c6d896c2a34fa632",
     "grade": false,
     "grade_id": "cell-5636aa1231c438ad",
     "locked": true,
     "schema_version": 3,
     "solution": false,
     "task": false
    }
   },
   "source": [
    "### TODO: use trainer `.evaluate()` method to evaluate the test performance"
   ]
  },
  {
   "cell_type": "code",
   "execution_count": 24,
   "id": "ed7cd515",
   "metadata": {
    "deletable": false
   },
   "outputs": [],
   "source": [
    "result = None\n",
    "# your code here\n",
    "#raise NotImplementedError\n",
    "result = trainer.evaluate(test_loader)\n",
    "\n",
    "print (result)"
   ]
  },
  {
   "cell_type": "code",
   "execution_count": 25,
   "id": "9f480c74",
   "metadata": {
    "deletable": false,
    "editable": false,
    "nbgrader": {
     "cell_type": "code",
     "checksum": "11519641e6be88d941f034fa57b06163",
     "grade": true,
     "grade_id": "cell-67e7f987294f8cd0",
     "locked": true,
     "points": 20,
     "schema_version": 3,
     "solution": false,
     "task": false
    }
   },
   "outputs": [],
   "source": [
    "'''\n",
    "AUTOGRADER CELL. DO NOT MODIFY THIS.\n",
    "'''\n",
    "\n"
   ]
  },
  {
   "cell_type": "markdown",
   "id": "c86f1fec",
   "metadata": {
    "deletable": false,
    "editable": false,
    "nbgrader": {
     "cell_type": "markdown",
     "checksum": "08ef4b16bef1ba9463e535fe2ed8625a",
     "grade": false,
     "grade_id": "cell-2faac4d16be1b71c",
     "locked": true,
     "schema_version": 3,
     "solution": false,
     "task": false
    }
   },
   "source": [
    "## 5.2 use pyhealth.metrics to evaluate\n",
    "\n",
    "trainer has another method `.inference(test_loader)` to obtain the y_true, y_prob, loss for any test_loader (the one you obtained in 2.1). We will use it here and together with pyhealth.metrics to evaluate the performance."
   ]
  },
  {
   "cell_type": "code",
   "execution_count": 26,
   "id": "2cdedd03",
   "metadata": {
    "deletable": false,
    "editable": false,
    "nbgrader": {
     "cell_type": "code",
     "checksum": "e4b91462979e223bcdff59f91805336e",
     "grade": false,
     "grade_id": "cell-01f7f8b5657dc5db",
     "locked": true,
     "schema_version": 3,
     "solution": false,
     "task": false
    }
   },
   "outputs": [],
   "source": [
    "# obtain the true label, predicted probability, evaluation loss \n",
    "y_true, y_prob, loss = trainer.inference(test_loader)"
   ]
  },
  {
   "cell_type": "markdown",
   "id": "e07fdabe",
   "metadata": {
    "deletable": false,
    "editable": false,
    "nbgrader": {
     "cell_type": "markdown",
     "checksum": "bf3fe4453a0ec159492e552939647b8e",
     "grade": false,
     "grade_id": "cell-5be6cbe920e353ac",
     "locked": true,
     "schema_version": 3,
     "solution": false,
     "task": false
    }
   },
   "source": [
    "### TODO: use pyhealth.metrics to obtain the following metrics on test data\n",
    "\n",
    "- pr_auc_samples\n",
    "- f1_weighted\n",
    "- recall_macro\n",
    "- precision_micro\n",
    "\n",
    "check the [example](https://pyhealth.readthedocs.io/en/latest/api/metrics/pyhealth.metrics.multilabel.html)"
   ]
  },
  {
   "cell_type": "code",
   "execution_count": 29,
   "id": "82bbf316",
   "metadata": {
    "deletable": false
   },
   "outputs": [],
   "source": [
    "from pyhealth.metrics import multilabel_metrics_fn\n",
    "\n",
    "result = None\n",
    "# your code here\n",
    "#raise NotImplementedError\n",
    "\n",
    "result = multilabel_metrics_fn(y_true, y_prob, metrics=[\"pr_auc_samples\", \"f1_weighted\", \"recall_macro\", \"precision_micro\"])\n",
    "\n",
    "print (result)"
   ]
  },
  {
   "cell_type": "code",
   "execution_count": 30,
   "id": "9955fbf2",
   "metadata": {
    "deletable": false,
    "editable": false,
    "nbgrader": {
     "cell_type": "code",
     "checksum": "1bfc4d75b7dcc34a8a5c8c872300acc9",
     "grade": true,
     "grade_id": "cell-c30f0bf7d14e800d",
     "locked": true,
     "points": 20,
     "schema_version": 3,
     "solution": false,
     "task": false
    }
   },
   "outputs": [],
   "source": [
    "'''\n",
    "AUTOGRADER CELL. DO NOT MODIFY THIS.\n",
    "'''\n",
    "\n"
   ]
  },
  {
   "cell_type": "code",
   "execution_count": null,
   "id": "20c21b6b",
   "metadata": {},
   "outputs": [],
   "source": []
  },
  {
   "cell_type": "code",
   "execution_count": null,
   "id": "2e55a263",
   "metadata": {},
   "outputs": [],
   "source": []
  }
 ],
 "metadata": {
  "illinois_payload": {
   "b64z": "",
   "nb_path": "release/HW5_pyhealth_modeling/HW5_pyhealth_modeling.ipynb"
  },
  "kernelspec": {
   "display_name": "Python 3 (Threads: 2)",
   "language": "python",
   "name": "python3"
  },
  "language_info": {
   "codemirror_mode": {
    "name": "ipython",
    "version": 3
   },
   "file_extension": ".py",
   "mimetype": "text/x-python",
   "name": "python",
   "nbconvert_exporter": "python",
   "pygments_lexer": "ipython3",
   "version": "3.8.12"
  }
 },
 "nbformat": 4,
 "nbformat_minor": 5
}
